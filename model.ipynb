{
 "cells": [
  {
   "cell_type": "markdown",
   "id": "64eb34cc",
   "metadata": {},
   "source": [
    "### 🌳 Machine Learning with Scikit-Learn  "
   ]
  },
  {
   "cell_type": "code",
   "execution_count": null,
   "id": "3f97c83e",
   "metadata": {},
   "outputs": [],
   "source": [
    "import pandas as pd\n",
    "from sklearn.ensemble import RandomForestClassifier\n",
    "import numpy as np\n",
    "from sklearn.model_selection import train_test_split"
   ]
  }
 ],
 "metadata": {
  "kernelspec": {
   "display_name": "Python 3",
   "language": "python",
   "name": "python3"
  },
  "language_info": {
   "name": "python",
   "version": "3.11.5"
  }
 },
 "nbformat": 4,
 "nbformat_minor": 5
}
